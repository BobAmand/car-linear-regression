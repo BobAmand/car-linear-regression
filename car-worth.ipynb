{
 "cells": [
  {
   "cell_type": "code",
   "execution_count": null,
   "metadata": {
    "collapsed": false
   },
   "outputs": [],
   "source": [
    "import pandas as pd\n",
    "import matplotlib.pyplot as plt\n",
    "import numpy as np\n",
    "from sklearn import linear_model\n",
    "import itertools\n",
    "\n",
    "%matplotlib inline"
   ]
  },
  {
   "cell_type": "markdown",
   "metadata": {},
   "source": [
    "# How Much is Your Car Worth?\n",
    "\n",
    "Data about the retail price of 2005 General Motors cars can be found in `car_data.csv`.\n",
    "\n",
    "The columns are:\n",
    "\n",
    "1. Price: suggested retail price of the used 2005 GM car in excellent condition.\n",
    "2. Mileage: number of miles the car has been driven\n",
    "3. Make: manufacturer of the car such as Saturn, Pontiac, and Chevrolet\n",
    "4. Model: specific models for each car manufacturer such as Ion, Vibe, Cavalier\n",
    "5. Trim (of car): specific type of car model such as SE Sedan 4D, Quad Coupe 2D          \n",
    "6. Type: body type such as sedan, coupe, etc.      \n",
    "7. Cylinder: number of cylinders in the engine        \n",
    "8. Liter: a more specific measure of engine size     \n",
    "9. Doors: number of doors           \n",
    "10. Cruise: indicator variable representing whether the car has cruise control (1 = cruise)\n",
    "11. Sound: indicator variable representing whether the car has upgraded speakers (1 = upgraded)\n",
    "12. Leather: indicator variable representing whether the car has leather seats (1 = leather)\n",
    "\n",
    "## Tasks, Part 1\n",
    "\n",
    "1. Find the linear regression equation for mileage vs price.\n",
    "2. Chart the original data and the equation on the chart.\n",
    "3. Find the equation's $R^2$ score (use the `.score` method) to determine whether the\n",
    "equation is a good fit for this data. (0.8 and greater is considered a strong correlation.)\n",
    "\n",
    "## Tasks, Part 2\n",
    "\n",
    "1. Use mileage, cylinders, liters, doors, cruise, sound, and leather to find the linear regression equation.\n",
    "2. Find the equation's $R^2$ score (use the `.score` method) to determine whether the\n",
    "equation is a good fit for this data. (0.8 and greater is considered a strong correlation.)\n",
    "3. Find the combination of the factors that is the best predictor for price.\n",
    "\n",
    "## Tasks, Part 3\n",
    "\n",
    "1. Research dummy variables in scikit-learn to see how to use the make, model, and body type.\n",
    "2. Find the best combination of factors to predict price."
   ]
  },
  {
   "cell_type": "code",
   "execution_count": null,
   "metadata": {
    "collapsed": false
   },
   "outputs": [],
   "source": [
    "df = pd.read_csv(\"car_data.csv\")\n",
    "df.head(3)"
   ]
  },
  {
   "cell_type": "markdown",
   "metadata": {},
   "source": [
    "### Tasks completed for Part 1:"
   ]
  },
  {
   "cell_type": "code",
   "execution_count": null,
   "metadata": {
    "collapsed": false
   },
   "outputs": [],
   "source": [
    "regr1 = linear_model.LinearRegression()\n",
    "regr1.fit(df[['Mileage']],df[['Price']])\n",
    "print(\"The x coefficient = {}\".format(regr1.coef_))\n",
    "print(\"  The y intercept = {}\".format(regr1.intercept_))\n",
    "\n",
    "print(\"\\n          The Rsq = {}\".format(regr1.score(df[['Mileage']],df[['Price']])))"
   ]
  },
  {
   "cell_type": "code",
   "execution_count": null,
   "metadata": {
    "collapsed": false
   },
   "outputs": [],
   "source": [
    "plt.scatter(df.Mileage,df.Price)\n",
    "plt.ylabel(\"Price\")\n",
    "plt.xlabel(\"Mileage\")\n",
    "plt.title(\"Price x Mileage for Used Cars\")\n",
    "plt.plot(df[['Mileage']],\n",
    "         regr1.predict(df[['Mileage']]), \n",
    "         color='red', \n",
    "         linewidth = 2)\n",
    "plt.show()\n",
    "print(\"Mileage alone is not a good predictor of price.\")\n",
    "print(\"The Rsq at .02 is very low.  Only 2% of Price variance is captured in Mileage.\")\n",
    "print(\"The current model is insufficient to predict price.\")"
   ]
  },
  {
   "cell_type": "markdown",
   "metadata": {},
   "source": [
    "### Tasks completed for Part 2:"
   ]
  },
  {
   "cell_type": "code",
   "execution_count": null,
   "metadata": {
    "collapsed": false
   },
   "outputs": [],
   "source": [
    "fulldf = df[['Price', 'Mileage', 'Cylinder', 'Liter', 'Doors','Cruise','Sound','Leather']]\n",
    "\n",
    "input = fulldf[['Mileage', 'Cylinder', 'Liter', 'Doors','Cruise','Sound','Leather']]\n",
    "output = fulldf['Price']\n",
    "\n",
    "regrm = linear_model.LinearRegression()\n",
    "regrm.fit(input, output)\n",
    "print(\"Coefficients for Mileage, Cylinder, Liter, Doors, Cruise, Sound, leather:\")\n",
    "print(regrm.coef_)\n",
    "print(\"Y-intercept = {}\".format(regrm.intercept_))\n",
    "print(\"    The Rsq = {}\".format(regrm.score(input, output)))"
   ]
  },
  {
   "cell_type": "code",
   "execution_count": null,
   "metadata": {
    "collapsed": false
   },
   "outputs": [],
   "source": [
    "fulldf.corr()"
   ]
  },
  {
   "cell_type": "code",
   "execution_count": null,
   "metadata": {
    "collapsed": false
   },
   "outputs": [],
   "source": [
    "subdf = df[['Price','Mileage','Cylinder','Cruise']]   #Based on the highest correlation with Price.\n",
    "\n",
    "input = fulldf[['Mileage','Cylinder','Cruise']]\n",
    "output = fulldf['Price']\n",
    "\n",
    "regrm = linear_model.LinearRegression()\n",
    "regrm.fit(input, output)\n",
    "print(\"Coefficients for Mileage, Cylinder + Cruise:\")\n",
    "print(regrm.coef_)\n",
    "print(\"Y-intercept = {}\".format(regrm.intercept_))\n",
    "print(\"    The Rsq = {}\".format(regrm.score(input, output)))"
   ]
  },
  {
   "cell_type": "markdown",
   "metadata": {},
   "source": [
    "#### The correlation coefficient identified Cylinder number and Cruise control as moderately associated with price.  \n",
    "#### Mileage was added even though the correlation coefficient is low. \n",
    "#### Will revisit with a comprehensive iterative loop but currently meets MVP.\n",
    "#### Here is an attempt at an iterative loop through column combinations; [but does not align with full column model]."
   ]
  },
  {
   "cell_type": "code",
   "execution_count": null,
   "metadata": {
    "collapsed": false
   },
   "outputs": [],
   "source": [
    "fulldf = pd.read_csv(\"car_data.csv\")\n",
    "possible_columns = ['Mileage','Cylinder','Liter','Doors','Cruise','Sound','Leather']\n",
    "\n",
    "def high_value_regression(fulldf, possible_columns):\n",
    "    \n",
    "    '''\n",
    "combos=[] \n",
    "   - the range \"1\" allows control of the minimum number of columns to be included.\n",
    "   - The 'intertools' appears to create a list of tuples for each combination of columns.\n",
    "   - Each tuple needs to be unpacked to a list prior to evaluation by LinearRegression. \n",
    "    '''\n",
    "    combos=[]\n",
    "    for x in range(1, len(possible_columns)):        \n",
    "        combos.append(list(itertools.combinations(possible_columns, x)))\n",
    "\n",
    "    '''\n",
    "letter=[]\n",
    "   - Each tuple from 'combo' is unpacked to a list and appended into letter.\n",
    "    '''   \n",
    "    letter =[]\n",
    "    for x in combos:                                \n",
    "        for y in x:\n",
    "            letter.append(list(y))\n",
    "\n",
    "    '''\n",
    "results=[]\n",
    "   - The list of column names are plugged into df[x] as input_data for regression.\n",
    "   - After each loop through the list of lists:\n",
    "       o The 'results' list accummulates two columns: 'Grouping' and 'Score'.\n",
    "       o The list of column names are 'join'd and appended into 'Grouping'.\n",
    "       o The Rsq is recorded as 'Score' in the DataFrame.\n",
    "   - The table is sorted high to low and 5 top printed.\n",
    "   \n",
    "    '''\n",
    "    results=[]\n",
    "    output = fulldf['Price']\n",
    "\n",
    "    for x in letter:\n",
    "        input_data = fulldf[x]\n",
    "\n",
    "        regrm = linear_model.LinearRegression()\n",
    "        regrm.fit(input_data, output)\n",
    "        regrm.coef_\n",
    "        regrm.intercept_\n",
    "    \n",
    "        results.append([', '.join(x),regrm.score(input_data, output)])\n",
    "    \n",
    "    results = pd.DataFrame(results, columns=('Grouping', 'Score'))\n",
    "    \n",
    "    return results.sort_index(by='Score', ascending=False).head(5)\n",
    "\n",
    "# high_value_regression(fulldf, possible_columns)\n",
    "\n",
    "# print(\"Oddly, cannot discover why the initial 7 column Rsq (including 'liter) = higher than max in table!!\")\n",
    "# print(\"Rsq all 7 = 0.44626\")"
   ]
  },
  {
   "cell_type": "code",
   "execution_count": null,
   "metadata": {
    "collapsed": false
   },
   "outputs": [],
   "source": [
    "high_value_regression(fulldf, possible_columns)"
   ]
  },
  {
   "cell_type": "markdown",
   "metadata": {},
   "source": [
    "### Tasks completed for Part 3:"
   ]
  },
  {
   "cell_type": "code",
   "execution_count": null,
   "metadata": {
    "collapsed": true
   },
   "outputs": [],
   "source": [
    "dumbdf = pd.read_csv(\"car_data.csv\")   # re-read data; dummy columns will be added to this dataframe.\n",
    "\n",
    "dumb_list = ['Make','Model','Type']    # pull an experimental subset of data.\n",
    "\n",
    "'''\n",
    "Each loop will create new columns named by unique members of the string column.\n",
    "The number of new columns will depend on the number of unique strings.\n",
    "The next linear regression will include the new dummy columns.\n",
    "The original source columns will not be included. \n",
    "'''\n",
    "for i in dumbdf['Make'].unique():\n",
    "    dumbdf[str(i)] = dumbdf['Make'] == i    \n",
    "\n",
    "# for i in dumbdf['Model'].unique():\n",
    "#     dumbdf[str(i)] = dumbdf['Type'] == i\n",
    "\n",
    "# for i in dumbdf['Type'].unique():\n",
    "#     dumbdf[str(i)] = dumbdf['Type'] == i\n",
    "      "
   ]
  },
  {
   "cell_type": "code",
   "execution_count": null,
   "metadata": {
    "collapsed": false
   },
   "outputs": [],
   "source": [
    "dumbdf.head(3)"
   ]
  },
  {
   "cell_type": "code",
   "execution_count": null,
   "metadata": {
    "collapsed": false
   },
   "outputs": [],
   "source": [
    "dumbdf.columns"
   ]
  },
  {
   "cell_type": "code",
   "execution_count": null,
   "metadata": {
    "collapsed": false
   },
   "outputs": [],
   "source": [
    "'''\n",
    "Removed 'Make', 'Model', and 'Type' to avoid oversampling.\n",
    "Kernal would not run with the additional Model data.\n",
    "Removed all dummy values associated with 'Model'.\n",
    "Removed all dummy values associated with 'Type'.\n",
    "Removed 'Liter','Cruise','Sound'\n",
    "\n",
    "'''\n",
    "\n",
    "new_columns = ['Mileage','Cylinder','Doors','Leather','Buick',\n",
    "               'Cadillac','Chevrolet','Pontiac','SAAB','Saturn']\n",
    "\n",
    "high_value_regression(dumbdf, new_columns)   # return results"
   ]
  },
  {
   "cell_type": "code",
   "execution_count": null,
   "metadata": {
    "collapsed": false
   },
   "outputs": [],
   "source": []
  },
  {
   "cell_type": "code",
   "execution_count": null,
   "metadata": {
    "collapsed": true
   },
   "outputs": [],
   "source": []
  }
 ],
 "metadata": {
  "kernelspec": {
   "display_name": "Python 3",
   "language": "python",
   "name": "python3"
  },
  "language_info": {
   "codemirror_mode": {
    "name": "ipython",
    "version": 3
   },
   "file_extension": ".py",
   "mimetype": "text/x-python",
   "name": "python",
   "nbconvert_exporter": "python",
   "pygments_lexer": "ipython3",
   "version": "3.4.3"
  }
 },
 "nbformat": 4,
 "nbformat_minor": 0
}
